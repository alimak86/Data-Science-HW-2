{
 "cells": [
  {
   "cell_type": "code",
   "execution_count": 1,
   "metadata": {},
   "outputs": [],
   "source": [
    "import numpy as np"
   ]
  },
  {
   "cell_type": "code",
   "execution_count": 2,
   "metadata": {},
   "outputs": [],
   "source": [
    "import pandas as pd"
   ]
  },
  {
   "cell_type": "code",
   "execution_count": 3,
   "metadata": {},
   "outputs": [],
   "source": [
    "import matplotlib as plt"
   ]
  },
  {
   "cell_type": "code",
   "execution_count": 4,
   "metadata": {},
   "outputs": [],
   "source": [
    "table = pd.read_csv(\"2017_jun_final.csv\")"
   ]
  },
  {
   "cell_type": "code",
   "execution_count": 5,
   "metadata": {},
   "outputs": [
    {
     "data": {
      "text/html": [
       "<div>\n",
       "<style scoped>\n",
       "    .dataframe tbody tr th:only-of-type {\n",
       "        vertical-align: middle;\n",
       "    }\n",
       "\n",
       "    .dataframe tbody tr th {\n",
       "        vertical-align: top;\n",
       "    }\n",
       "\n",
       "    .dataframe thead th {\n",
       "        text-align: right;\n",
       "    }\n",
       "</style>\n",
       "<table border=\"1\" class=\"dataframe\">\n",
       "  <thead>\n",
       "    <tr style=\"text-align: right;\">\n",
       "      <th></th>\n",
       "      <th>N</th>\n",
       "      <th>Должность</th>\n",
       "      <th>Язык.программирования</th>\n",
       "      <th>Специализация</th>\n",
       "      <th>Общий.опыт.работы</th>\n",
       "      <th>Опыт.работы.на.текущем.месте</th>\n",
       "      <th>Зарплата.в.месяц</th>\n",
       "      <th>Изменение.зарплаты.за.12.месяцев</th>\n",
       "      <th>Город</th>\n",
       "      <th>Размер.компании</th>\n",
       "      <th>...</th>\n",
       "      <th>Еще.студент</th>\n",
       "      <th>Уровень.английского</th>\n",
       "      <th>Предметная.область</th>\n",
       "      <th>Дата.заполнения</th>\n",
       "      <th>User.Agent</th>\n",
       "      <th>exp</th>\n",
       "      <th>current_job_exp</th>\n",
       "      <th>salary</th>\n",
       "      <th>Валюта</th>\n",
       "      <th>cls</th>\n",
       "    </tr>\n",
       "  </thead>\n",
       "  <tbody>\n",
       "    <tr>\n",
       "      <th>0</th>\n",
       "      <td>1</td>\n",
       "      <td>Junior QA engineer</td>\n",
       "      <td>NaN</td>\n",
       "      <td>Manual QA</td>\n",
       "      <td>0.5</td>\n",
       "      <td>0.5</td>\n",
       "      <td>400</td>\n",
       "      <td>0</td>\n",
       "      <td>Харьков</td>\n",
       "      <td>до 10 человек</td>\n",
       "      <td>...</td>\n",
       "      <td>True</td>\n",
       "      <td>ниже среднего</td>\n",
       "      <td>iOS,eCommerce</td>\n",
       "      <td>12/06/2017 12:38:08</td>\n",
       "      <td>Mozilla/5.0 (Windows NT 10.0; Win64; x64) Appl...</td>\n",
       "      <td>0.5</td>\n",
       "      <td>0.5</td>\n",
       "      <td>400</td>\n",
       "      <td>NaN</td>\n",
       "      <td>QA</td>\n",
       "    </tr>\n",
       "    <tr>\n",
       "      <th>1</th>\n",
       "      <td>2</td>\n",
       "      <td>Junior QA engineer</td>\n",
       "      <td>NaN</td>\n",
       "      <td>Manual QA</td>\n",
       "      <td>меньше 3 месяцев</td>\n",
       "      <td>меньше 3 месяцев</td>\n",
       "      <td>430</td>\n",
       "      <td>130</td>\n",
       "      <td>Харьков</td>\n",
       "      <td>свыше 1000 человек</td>\n",
       "      <td>...</td>\n",
       "      <td>True</td>\n",
       "      <td>выше среднего</td>\n",
       "      <td>Веб-разработка</td>\n",
       "      <td>12/06/2017 12:42:51</td>\n",
       "      <td>Mozilla/5.0 (iPad; CPU OS 10_2_1 like Mac OS X...</td>\n",
       "      <td>0.0</td>\n",
       "      <td>0.0</td>\n",
       "      <td>430</td>\n",
       "      <td>NaN</td>\n",
       "      <td>QA</td>\n",
       "    </tr>\n",
       "    <tr>\n",
       "      <th>2</th>\n",
       "      <td>3</td>\n",
       "      <td>Software Engineer</td>\n",
       "      <td>C#/.NET</td>\n",
       "      <td>NaN</td>\n",
       "      <td>4</td>\n",
       "      <td>1</td>\n",
       "      <td>2500</td>\n",
       "      <td>800</td>\n",
       "      <td>Киев</td>\n",
       "      <td>до 1000 человек</td>\n",
       "      <td>...</td>\n",
       "      <td>False</td>\n",
       "      <td>средний</td>\n",
       "      <td>Веб-разработка,Корпоративные системы</td>\n",
       "      <td>12/06/2017 13:02:47</td>\n",
       "      <td>Mozilla/5.0 (Windows NT 10.0; Win64; x64) Appl...</td>\n",
       "      <td>4.0</td>\n",
       "      <td>1.0</td>\n",
       "      <td>2500</td>\n",
       "      <td>NaN</td>\n",
       "      <td>DEV</td>\n",
       "    </tr>\n",
       "    <tr>\n",
       "      <th>3</th>\n",
       "      <td>4</td>\n",
       "      <td>Software Engineer</td>\n",
       "      <td>JavaScript</td>\n",
       "      <td>NaN</td>\n",
       "      <td>5</td>\n",
       "      <td>4</td>\n",
       "      <td>2000</td>\n",
       "      <td>400</td>\n",
       "      <td>Одесса</td>\n",
       "      <td>до 200 человек</td>\n",
       "      <td>...</td>\n",
       "      <td>False</td>\n",
       "      <td>ниже среднего</td>\n",
       "      <td>Desktop Applications,Веб-разработка</td>\n",
       "      <td>12/06/2017 13:03:01</td>\n",
       "      <td>Mozilla/5.0 (Windows NT 6.1; Win64; x64) Apple...</td>\n",
       "      <td>5.0</td>\n",
       "      <td>4.0</td>\n",
       "      <td>2000</td>\n",
       "      <td>NaN</td>\n",
       "      <td>DEV</td>\n",
       "    </tr>\n",
       "    <tr>\n",
       "      <th>4</th>\n",
       "      <td>5</td>\n",
       "      <td>Senior Software Engineer</td>\n",
       "      <td>JavaScript</td>\n",
       "      <td>NaN</td>\n",
       "      <td>10 и более лет</td>\n",
       "      <td>0.5</td>\n",
       "      <td>4500</td>\n",
       "      <td>500</td>\n",
       "      <td>Другой</td>\n",
       "      <td>до 10 человек</td>\n",
       "      <td>...</td>\n",
       "      <td>False</td>\n",
       "      <td>средний</td>\n",
       "      <td>Desktop Applications,Веб-разработка</td>\n",
       "      <td>12/06/2017 13:03:47</td>\n",
       "      <td>Mozilla/5.0 (iPhone; CPU iPhone OS 10_3_2 like...</td>\n",
       "      <td>10.0</td>\n",
       "      <td>0.5</td>\n",
       "      <td>4500</td>\n",
       "      <td>NaN</td>\n",
       "      <td>DEV</td>\n",
       "    </tr>\n",
       "  </tbody>\n",
       "</table>\n",
       "<p>5 rows × 25 columns</p>\n",
       "</div>"
      ],
      "text/plain": [
       "   N                 Должность Язык.программирования Специализация  \\\n",
       "0  1        Junior QA engineer                   NaN     Manual QA   \n",
       "1  2        Junior QA engineer                   NaN     Manual QA   \n",
       "2  3         Software Engineer               C#/.NET           NaN   \n",
       "3  4         Software Engineer            JavaScript           NaN   \n",
       "4  5  Senior Software Engineer            JavaScript           NaN   \n",
       "\n",
       "  Общий.опыт.работы Опыт.работы.на.текущем.месте  Зарплата.в.месяц  \\\n",
       "0               0.5                          0.5               400   \n",
       "1  меньше 3 месяцев             меньше 3 месяцев               430   \n",
       "2                 4                            1              2500   \n",
       "3                 5                            4              2000   \n",
       "4    10 и более лет                          0.5              4500   \n",
       "\n",
       "   Изменение.зарплаты.за.12.месяцев    Город     Размер.компании  ...  \\\n",
       "0                                 0  Харьков       до 10 человек  ...   \n",
       "1                               130  Харьков  свыше 1000 человек  ...   \n",
       "2                               800     Киев     до 1000 человек  ...   \n",
       "3                               400   Одесса      до 200 человек  ...   \n",
       "4                               500   Другой       до 10 человек  ...   \n",
       "\n",
       "  Еще.студент Уровень.английского                    Предметная.область  \\\n",
       "0        True       ниже среднего                         iOS,eCommerce   \n",
       "1        True       выше среднего                        Веб-разработка   \n",
       "2       False             средний  Веб-разработка,Корпоративные системы   \n",
       "3       False       ниже среднего   Desktop Applications,Веб-разработка   \n",
       "4       False             средний   Desktop Applications,Веб-разработка   \n",
       "\n",
       "       Дата.заполнения                                         User.Agent  \\\n",
       "0  12/06/2017 12:38:08  Mozilla/5.0 (Windows NT 10.0; Win64; x64) Appl...   \n",
       "1  12/06/2017 12:42:51  Mozilla/5.0 (iPad; CPU OS 10_2_1 like Mac OS X...   \n",
       "2  12/06/2017 13:02:47  Mozilla/5.0 (Windows NT 10.0; Win64; x64) Appl...   \n",
       "3  12/06/2017 13:03:01  Mozilla/5.0 (Windows NT 6.1; Win64; x64) Apple...   \n",
       "4  12/06/2017 13:03:47  Mozilla/5.0 (iPhone; CPU iPhone OS 10_3_2 like...   \n",
       "\n",
       "    exp current_job_exp salary Валюта  cls  \n",
       "0   0.5             0.5    400    NaN   QA  \n",
       "1   0.0             0.0    430    NaN   QA  \n",
       "2   4.0             1.0   2500    NaN  DEV  \n",
       "3   5.0             4.0   2000    NaN  DEV  \n",
       "4  10.0             0.5   4500    NaN  DEV  \n",
       "\n",
       "[5 rows x 25 columns]"
      ]
     },
     "execution_count": 5,
     "metadata": {},
     "output_type": "execute_result"
    }
   ],
   "source": [
    "table.head()"
   ]
  },
  {
   "cell_type": "code",
   "execution_count": 6,
   "metadata": {},
   "outputs": [
    {
     "data": {
      "text/plain": [
       "(8704, 25)"
      ]
     },
     "execution_count": 6,
     "metadata": {},
     "output_type": "execute_result"
    }
   ],
   "source": [
    "table.shape"
   ]
  },
  {
   "cell_type": "code",
   "execution_count": 7,
   "metadata": {},
   "outputs": [
    {
     "data": {
      "text/plain": [
       "N                                     int64\n",
       "Должность                            object\n",
       "Язык.программирования                object\n",
       "Специализация                        object\n",
       "Общий.опыт.работы                    object\n",
       "Опыт.работы.на.текущем.месте         object\n",
       "Зарплата.в.месяц                      int64\n",
       "Изменение.зарплаты.за.12.месяцев      int64\n",
       "Город                                object\n",
       "Размер.компании                      object\n",
       "Тип.компании                         object\n",
       "Пол                                  object\n",
       "Возраст                               int64\n",
       "Образование                          object\n",
       "Университет                          object\n",
       "Еще.студент                            bool\n",
       "Уровень.английского                  object\n",
       "Предметная.область                   object\n",
       "Дата.заполнения                      object\n",
       "User.Agent                           object\n",
       "exp                                 float64\n",
       "current_job_exp                     float64\n",
       "salary                                int64\n",
       "Валюта                               object\n",
       "cls                                  object\n",
       "dtype: object"
      ]
     },
     "execution_count": 7,
     "metadata": {},
     "output_type": "execute_result"
    }
   ],
   "source": [
    "table.dtypes ## types of the columns"
   ]
  },
  {
   "cell_type": "code",
   "execution_count": 8,
   "metadata": {},
   "outputs": [],
   "source": [
    "missing_data = table.isnull().sum() ## null in the column"
   ]
  },
  {
   "cell_type": "code",
   "execution_count": 9,
   "metadata": {},
   "outputs": [],
   "source": [
    "data_to_delete = missing_data[missing_data > 0]"
   ]
  },
  {
   "cell_type": "code",
   "execution_count": 10,
   "metadata": {},
   "outputs": [
    {
     "data": {
      "text/plain": [
       "Язык.программирования    3850\n",
       "Специализация            7219\n",
       "Университет               358\n",
       "Предметная.область        223\n",
       "Валюта                   8694\n",
       "cls                      1574\n",
       "dtype: int64"
      ]
     },
     "execution_count": 10,
     "metadata": {},
     "output_type": "execute_result"
    }
   ],
   "source": [
    "data_to_delete"
   ]
  },
  {
   "cell_type": "code",
   "execution_count": 11,
   "metadata": {},
   "outputs": [],
   "source": [
    "data_to_delete_languages_removed = data_to_delete.drop(labels = [\"Язык.программирования\"])"
   ]
  },
  {
   "cell_type": "code",
   "execution_count": 12,
   "metadata": {},
   "outputs": [
    {
     "data": {
      "text/plain": [
       "Специализация         7219\n",
       "Университет            358\n",
       "Предметная.область     223\n",
       "Валюта                8694\n",
       "cls                   1574\n",
       "dtype: int64"
      ]
     },
     "execution_count": 12,
     "metadata": {},
     "output_type": "execute_result"
    }
   ],
   "source": [
    "data_to_delete_languages_removed"
   ]
  },
  {
   "cell_type": "code",
   "execution_count": 13,
   "metadata": {},
   "outputs": [],
   "source": [
    "list_columns_to_delete = data_to_delete_languages_removed.index.tolist()"
   ]
  },
  {
   "cell_type": "code",
   "execution_count": 14,
   "metadata": {},
   "outputs": [],
   "source": [
    "table = table.drop(labels=list_columns_to_delete,axis=1) ## remove empty columns"
   ]
  },
  {
   "cell_type": "code",
   "execution_count": 15,
   "metadata": {},
   "outputs": [
    {
     "data": {
      "text/plain": [
       "N                                      0\n",
       "Должность                              0\n",
       "Язык.программирования               3850\n",
       "Общий.опыт.работы                      0\n",
       "Опыт.работы.на.текущем.месте           0\n",
       "Зарплата.в.месяц                       0\n",
       "Изменение.зарплаты.за.12.месяцев       0\n",
       "Город                                  0\n",
       "Размер.компании                        0\n",
       "Тип.компании                           0\n",
       "Пол                                    0\n",
       "Возраст                                0\n",
       "Образование                            0\n",
       "Еще.студент                            0\n",
       "Уровень.английского                    0\n",
       "Дата.заполнения                        0\n",
       "User.Agent                             0\n",
       "exp                                    0\n",
       "current_job_exp                        0\n",
       "salary                                 0\n",
       "dtype: int64"
      ]
     },
     "execution_count": 15,
     "metadata": {},
     "output_type": "execute_result"
    }
   ],
   "source": [
    "table.isnull().sum()"
   ]
  },
  {
   "cell_type": "code",
   "execution_count": 16,
   "metadata": {},
   "outputs": [],
   "source": [
    "table = table.dropna() #### remove rows with missing data"
   ]
  },
  {
   "cell_type": "code",
   "execution_count": 17,
   "metadata": {},
   "outputs": [
    {
     "data": {
      "text/plain": [
       "(4854, 20)"
      ]
     },
     "execution_count": 17,
     "metadata": {},
     "output_type": "execute_result"
    }
   ],
   "source": [
    "table.shape"
   ]
  },
  {
   "cell_type": "code",
   "execution_count": 18,
   "metadata": {},
   "outputs": [],
   "source": [
    "python_data = table[table[\"Язык.программирования\"]==\"Python\"] ## select developers on Python"
   ]
  },
  {
   "cell_type": "code",
   "execution_count": 19,
   "metadata": {},
   "outputs": [
    {
     "data": {
      "text/html": [
       "<div>\n",
       "<style scoped>\n",
       "    .dataframe tbody tr th:only-of-type {\n",
       "        vertical-align: middle;\n",
       "    }\n",
       "\n",
       "    .dataframe tbody tr th {\n",
       "        vertical-align: top;\n",
       "    }\n",
       "\n",
       "    .dataframe thead th {\n",
       "        text-align: right;\n",
       "    }\n",
       "</style>\n",
       "<table border=\"1\" class=\"dataframe\">\n",
       "  <thead>\n",
       "    <tr style=\"text-align: right;\">\n",
       "      <th></th>\n",
       "      <th>N</th>\n",
       "      <th>Должность</th>\n",
       "      <th>Язык.программирования</th>\n",
       "      <th>Общий.опыт.работы</th>\n",
       "      <th>Опыт.работы.на.текущем.месте</th>\n",
       "      <th>Зарплата.в.месяц</th>\n",
       "      <th>Изменение.зарплаты.за.12.месяцев</th>\n",
       "      <th>Город</th>\n",
       "      <th>Размер.компании</th>\n",
       "      <th>Тип.компании</th>\n",
       "      <th>Пол</th>\n",
       "      <th>Возраст</th>\n",
       "      <th>Образование</th>\n",
       "      <th>Еще.студент</th>\n",
       "      <th>Уровень.английского</th>\n",
       "      <th>Дата.заполнения</th>\n",
       "      <th>User.Agent</th>\n",
       "      <th>exp</th>\n",
       "      <th>current_job_exp</th>\n",
       "      <th>salary</th>\n",
       "    </tr>\n",
       "  </thead>\n",
       "  <tbody>\n",
       "    <tr>\n",
       "      <th>12</th>\n",
       "      <td>13</td>\n",
       "      <td>Software Engineer</td>\n",
       "      <td>Python</td>\n",
       "      <td>1</td>\n",
       "      <td>меньше 3 месяцев</td>\n",
       "      <td>800</td>\n",
       "      <td>200</td>\n",
       "      <td>Киев</td>\n",
       "      <td>до 50 человек</td>\n",
       "      <td>Аутсорсинговая</td>\n",
       "      <td>мужской</td>\n",
       "      <td>26</td>\n",
       "      <td>Высшее</td>\n",
       "      <td>False</td>\n",
       "      <td>ниже среднего</td>\n",
       "      <td>12/06/2017 13:05:54</td>\n",
       "      <td>Mozilla/5.0 (Windows NT 6.1; Win64; x64) Apple...</td>\n",
       "      <td>1.0</td>\n",
       "      <td>0.0</td>\n",
       "      <td>800</td>\n",
       "    </tr>\n",
       "    <tr>\n",
       "      <th>68</th>\n",
       "      <td>69</td>\n",
       "      <td>Software Engineer</td>\n",
       "      <td>Python</td>\n",
       "      <td>1.5</td>\n",
       "      <td>0.5</td>\n",
       "      <td>900</td>\n",
       "      <td>900</td>\n",
       "      <td>Киев</td>\n",
       "      <td>до 10 человек</td>\n",
       "      <td>Стартап</td>\n",
       "      <td>мужской</td>\n",
       "      <td>21</td>\n",
       "      <td>Незаконченное высшее</td>\n",
       "      <td>True</td>\n",
       "      <td>выше среднего</td>\n",
       "      <td>12/06/2017 13:11:17</td>\n",
       "      <td>Mozilla/5.0 (Windows NT 10.0; Win64; x64) Appl...</td>\n",
       "      <td>1.5</td>\n",
       "      <td>0.5</td>\n",
       "      <td>900</td>\n",
       "    </tr>\n",
       "    <tr>\n",
       "      <th>87</th>\n",
       "      <td>88</td>\n",
       "      <td>Junior Software Engineer</td>\n",
       "      <td>Python</td>\n",
       "      <td>0.5</td>\n",
       "      <td>0.5</td>\n",
       "      <td>600</td>\n",
       "      <td>0</td>\n",
       "      <td>Киев</td>\n",
       "      <td>до 10 человек</td>\n",
       "      <td>Аутсорсинговая</td>\n",
       "      <td>мужской</td>\n",
       "      <td>19</td>\n",
       "      <td>Незаконченное высшее</td>\n",
       "      <td>True</td>\n",
       "      <td>выше среднего</td>\n",
       "      <td>12/06/2017 13:12:25</td>\n",
       "      <td>Mozilla/5.0 (X11; Linux x86_64) AppleWebKit/53...</td>\n",
       "      <td>0.5</td>\n",
       "      <td>0.5</td>\n",
       "      <td>600</td>\n",
       "    </tr>\n",
       "    <tr>\n",
       "      <th>114</th>\n",
       "      <td>115</td>\n",
       "      <td>Junior Software Engineer</td>\n",
       "      <td>Python</td>\n",
       "      <td>1.5</td>\n",
       "      <td>0.5</td>\n",
       "      <td>685</td>\n",
       "      <td>250</td>\n",
       "      <td>Киев</td>\n",
       "      <td>до 1000 человек</td>\n",
       "      <td>Аутсорсинговая</td>\n",
       "      <td>мужской</td>\n",
       "      <td>21</td>\n",
       "      <td>Незаконченное высшее</td>\n",
       "      <td>False</td>\n",
       "      <td>средний</td>\n",
       "      <td>12/06/2017 13:14:52</td>\n",
       "      <td>Mozilla/5.0 (X11; Linux x86_64) AppleWebKit/53...</td>\n",
       "      <td>1.5</td>\n",
       "      <td>0.5</td>\n",
       "      <td>685</td>\n",
       "    </tr>\n",
       "    <tr>\n",
       "      <th>143</th>\n",
       "      <td>144</td>\n",
       "      <td>Junior Software Engineer</td>\n",
       "      <td>Python</td>\n",
       "      <td>1</td>\n",
       "      <td>1</td>\n",
       "      <td>750</td>\n",
       "      <td>250</td>\n",
       "      <td>Киев</td>\n",
       "      <td>до 10 человек</td>\n",
       "      <td>Аутсорсинговая</td>\n",
       "      <td>мужской</td>\n",
       "      <td>21</td>\n",
       "      <td>Незаконченное высшее</td>\n",
       "      <td>True</td>\n",
       "      <td>выше среднего</td>\n",
       "      <td>12/06/2017 13:19:10</td>\n",
       "      <td>Mozilla/5.0 (X11; Linux x86_64) AppleWebKit/53...</td>\n",
       "      <td>1.0</td>\n",
       "      <td>1.0</td>\n",
       "      <td>750</td>\n",
       "    </tr>\n",
       "    <tr>\n",
       "      <th>...</th>\n",
       "      <td>...</td>\n",
       "      <td>...</td>\n",
       "      <td>...</td>\n",
       "      <td>...</td>\n",
       "      <td>...</td>\n",
       "      <td>...</td>\n",
       "      <td>...</td>\n",
       "      <td>...</td>\n",
       "      <td>...</td>\n",
       "      <td>...</td>\n",
       "      <td>...</td>\n",
       "      <td>...</td>\n",
       "      <td>...</td>\n",
       "      <td>...</td>\n",
       "      <td>...</td>\n",
       "      <td>...</td>\n",
       "      <td>...</td>\n",
       "      <td>...</td>\n",
       "      <td>...</td>\n",
       "      <td>...</td>\n",
       "    </tr>\n",
       "    <tr>\n",
       "      <th>8546</th>\n",
       "      <td>8547</td>\n",
       "      <td>Software Engineer</td>\n",
       "      <td>Python</td>\n",
       "      <td>5</td>\n",
       "      <td>1</td>\n",
       "      <td>2000</td>\n",
       "      <td>800</td>\n",
       "      <td>Запорожье</td>\n",
       "      <td>до 50 человек</td>\n",
       "      <td>Аутсорсинговая</td>\n",
       "      <td>мужской</td>\n",
       "      <td>22</td>\n",
       "      <td>Незаконченное высшее</td>\n",
       "      <td>False</td>\n",
       "      <td>средний</td>\n",
       "      <td>10/07/2017 14:11:26</td>\n",
       "      <td>Mozilla/5.0 (Macintosh; Intel Mac OS X 10_12_5...</td>\n",
       "      <td>5.0</td>\n",
       "      <td>1.0</td>\n",
       "      <td>2000</td>\n",
       "    </tr>\n",
       "    <tr>\n",
       "      <th>8625</th>\n",
       "      <td>8626</td>\n",
       "      <td>Software Engineer</td>\n",
       "      <td>Python</td>\n",
       "      <td>4</td>\n",
       "      <td>1</td>\n",
       "      <td>1750</td>\n",
       "      <td>0</td>\n",
       "      <td>Киев</td>\n",
       "      <td>свыше 1000 человек</td>\n",
       "      <td>Аутсорсинговая</td>\n",
       "      <td>мужской</td>\n",
       "      <td>28</td>\n",
       "      <td>Среднее</td>\n",
       "      <td>False</td>\n",
       "      <td>средний</td>\n",
       "      <td>11/07/2017 16:15:40</td>\n",
       "      <td>Mozilla/5.0 (X11; Ubuntu; Linux x86_64; rv:54....</td>\n",
       "      <td>4.0</td>\n",
       "      <td>1.0</td>\n",
       "      <td>1750</td>\n",
       "    </tr>\n",
       "    <tr>\n",
       "      <th>8635</th>\n",
       "      <td>8636</td>\n",
       "      <td>Senior Software Engineer</td>\n",
       "      <td>Python</td>\n",
       "      <td>10 и более лет</td>\n",
       "      <td>меньше 3 месяцев</td>\n",
       "      <td>4000</td>\n",
       "      <td>1300</td>\n",
       "      <td>Удаленно</td>\n",
       "      <td>до 10 человек</td>\n",
       "      <td>Стартап</td>\n",
       "      <td>мужской</td>\n",
       "      <td>33</td>\n",
       "      <td>Высшее</td>\n",
       "      <td>False</td>\n",
       "      <td>выше среднего</td>\n",
       "      <td>11/07/2017 17:51:36</td>\n",
       "      <td>Mozilla/5.0 (X11; Linux x86_64) AppleWebKit/53...</td>\n",
       "      <td>10.0</td>\n",
       "      <td>0.0</td>\n",
       "      <td>4000</td>\n",
       "    </tr>\n",
       "    <tr>\n",
       "      <th>8673</th>\n",
       "      <td>8674</td>\n",
       "      <td>Junior Software Engineer</td>\n",
       "      <td>Python</td>\n",
       "      <td>0.5</td>\n",
       "      <td>0.5</td>\n",
       "      <td>350</td>\n",
       "      <td>50</td>\n",
       "      <td>Киев</td>\n",
       "      <td>до 50 человек</td>\n",
       "      <td>Аутсорсинговая</td>\n",
       "      <td>мужской</td>\n",
       "      <td>22</td>\n",
       "      <td>Высшее</td>\n",
       "      <td>False</td>\n",
       "      <td>средний</td>\n",
       "      <td>12/07/2017 09:37:16</td>\n",
       "      <td>Mozilla/5.0 (X11; Ubuntu; Linux x86_64; rv:54....</td>\n",
       "      <td>0.5</td>\n",
       "      <td>0.5</td>\n",
       "      <td>350</td>\n",
       "    </tr>\n",
       "    <tr>\n",
       "      <th>8695</th>\n",
       "      <td>8696</td>\n",
       "      <td>Software Engineer</td>\n",
       "      <td>Python</td>\n",
       "      <td>1</td>\n",
       "      <td>0.5</td>\n",
       "      <td>1500</td>\n",
       "      <td>1000</td>\n",
       "      <td>Киев</td>\n",
       "      <td>до 10 человек</td>\n",
       "      <td>Стартап</td>\n",
       "      <td>мужской</td>\n",
       "      <td>29</td>\n",
       "      <td>Высшее</td>\n",
       "      <td>False</td>\n",
       "      <td>средний</td>\n",
       "      <td>12/07/2017 14:39:21</td>\n",
       "      <td>Mozilla/5.0 (X11; Linux x86_64) AppleWebKit/53...</td>\n",
       "      <td>1.0</td>\n",
       "      <td>0.5</td>\n",
       "      <td>1500</td>\n",
       "    </tr>\n",
       "  </tbody>\n",
       "</table>\n",
       "<p>207 rows × 20 columns</p>\n",
       "</div>"
      ],
      "text/plain": [
       "         N                 Должность Язык.программирования Общий.опыт.работы  \\\n",
       "12      13         Software Engineer                Python                 1   \n",
       "68      69         Software Engineer                Python               1.5   \n",
       "87      88  Junior Software Engineer                Python               0.5   \n",
       "114    115  Junior Software Engineer                Python               1.5   \n",
       "143    144  Junior Software Engineer                Python                 1   \n",
       "...    ...                       ...                   ...               ...   \n",
       "8546  8547         Software Engineer                Python                 5   \n",
       "8625  8626         Software Engineer                Python                 4   \n",
       "8635  8636  Senior Software Engineer                Python    10 и более лет   \n",
       "8673  8674  Junior Software Engineer                Python               0.5   \n",
       "8695  8696         Software Engineer                Python                 1   \n",
       "\n",
       "     Опыт.работы.на.текущем.месте  Зарплата.в.месяц  \\\n",
       "12               меньше 3 месяцев               800   \n",
       "68                            0.5               900   \n",
       "87                            0.5               600   \n",
       "114                           0.5               685   \n",
       "143                             1               750   \n",
       "...                           ...               ...   \n",
       "8546                            1              2000   \n",
       "8625                            1              1750   \n",
       "8635             меньше 3 месяцев              4000   \n",
       "8673                          0.5               350   \n",
       "8695                          0.5              1500   \n",
       "\n",
       "      Изменение.зарплаты.за.12.месяцев      Город     Размер.компании  \\\n",
       "12                                 200       Киев       до 50 человек   \n",
       "68                                 900       Киев       до 10 человек   \n",
       "87                                   0       Киев       до 10 человек   \n",
       "114                                250       Киев     до 1000 человек   \n",
       "143                                250       Киев       до 10 человек   \n",
       "...                                ...        ...                 ...   \n",
       "8546                               800  Запорожье       до 50 человек   \n",
       "8625                                 0       Киев  свыше 1000 человек   \n",
       "8635                              1300   Удаленно       до 10 человек   \n",
       "8673                                50       Киев       до 50 человек   \n",
       "8695                              1000       Киев       до 10 человек   \n",
       "\n",
       "        Тип.компании      Пол  Возраст           Образование  Еще.студент  \\\n",
       "12    Аутсорсинговая  мужской       26                Высшее        False   \n",
       "68           Стартап  мужской       21  Незаконченное высшее         True   \n",
       "87    Аутсорсинговая  мужской       19  Незаконченное высшее         True   \n",
       "114   Аутсорсинговая  мужской       21  Незаконченное высшее        False   \n",
       "143   Аутсорсинговая  мужской       21  Незаконченное высшее         True   \n",
       "...              ...      ...      ...                   ...          ...   \n",
       "8546  Аутсорсинговая  мужской       22  Незаконченное высшее        False   \n",
       "8625  Аутсорсинговая  мужской       28               Среднее        False   \n",
       "8635         Стартап  мужской       33                Высшее        False   \n",
       "8673  Аутсорсинговая  мужской       22                Высшее        False   \n",
       "8695         Стартап  мужской       29                Высшее        False   \n",
       "\n",
       "     Уровень.английского      Дата.заполнения  \\\n",
       "12         ниже среднего  12/06/2017 13:05:54   \n",
       "68         выше среднего  12/06/2017 13:11:17   \n",
       "87         выше среднего  12/06/2017 13:12:25   \n",
       "114              средний  12/06/2017 13:14:52   \n",
       "143        выше среднего  12/06/2017 13:19:10   \n",
       "...                  ...                  ...   \n",
       "8546             средний  10/07/2017 14:11:26   \n",
       "8625             средний  11/07/2017 16:15:40   \n",
       "8635       выше среднего  11/07/2017 17:51:36   \n",
       "8673             средний  12/07/2017 09:37:16   \n",
       "8695             средний  12/07/2017 14:39:21   \n",
       "\n",
       "                                             User.Agent   exp  \\\n",
       "12    Mozilla/5.0 (Windows NT 6.1; Win64; x64) Apple...   1.0   \n",
       "68    Mozilla/5.0 (Windows NT 10.0; Win64; x64) Appl...   1.5   \n",
       "87    Mozilla/5.0 (X11; Linux x86_64) AppleWebKit/53...   0.5   \n",
       "114   Mozilla/5.0 (X11; Linux x86_64) AppleWebKit/53...   1.5   \n",
       "143   Mozilla/5.0 (X11; Linux x86_64) AppleWebKit/53...   1.0   \n",
       "...                                                 ...   ...   \n",
       "8546  Mozilla/5.0 (Macintosh; Intel Mac OS X 10_12_5...   5.0   \n",
       "8625  Mozilla/5.0 (X11; Ubuntu; Linux x86_64; rv:54....   4.0   \n",
       "8635  Mozilla/5.0 (X11; Linux x86_64) AppleWebKit/53...  10.0   \n",
       "8673  Mozilla/5.0 (X11; Ubuntu; Linux x86_64; rv:54....   0.5   \n",
       "8695  Mozilla/5.0 (X11; Linux x86_64) AppleWebKit/53...   1.0   \n",
       "\n",
       "      current_job_exp  salary  \n",
       "12                0.0     800  \n",
       "68                0.5     900  \n",
       "87                0.5     600  \n",
       "114               0.5     685  \n",
       "143               1.0     750  \n",
       "...               ...     ...  \n",
       "8546              1.0    2000  \n",
       "8625              1.0    1750  \n",
       "8635              0.0    4000  \n",
       "8673              0.5     350  \n",
       "8695              0.5    1500  \n",
       "\n",
       "[207 rows x 20 columns]"
      ]
     },
     "execution_count": 19,
     "metadata": {},
     "output_type": "execute_result"
    }
   ],
   "source": [
    "python_data"
   ]
  },
  {
   "cell_type": "code",
   "execution_count": 20,
   "metadata": {},
   "outputs": [
    {
     "data": {
      "text/plain": [
       "(207, 20)"
      ]
     },
     "execution_count": 20,
     "metadata": {},
     "output_type": "execute_result"
    }
   ],
   "source": [
    "python_data.shape"
   ]
  },
  {
   "cell_type": "code",
   "execution_count": 21,
   "metadata": {},
   "outputs": [
    {
     "data": {
      "text/html": [
       "<div>\n",
       "<style scoped>\n",
       "    .dataframe tbody tr th:only-of-type {\n",
       "        vertical-align: middle;\n",
       "    }\n",
       "\n",
       "    .dataframe tbody tr th {\n",
       "        vertical-align: top;\n",
       "    }\n",
       "\n",
       "    .dataframe thead th {\n",
       "        text-align: right;\n",
       "    }\n",
       "</style>\n",
       "<table border=\"1\" class=\"dataframe\">\n",
       "  <thead>\n",
       "    <tr style=\"text-align: right;\">\n",
       "      <th></th>\n",
       "      <th>N</th>\n",
       "      <th>Язык.программирования</th>\n",
       "      <th>Общий.опыт.работы</th>\n",
       "      <th>Опыт.работы.на.текущем.месте</th>\n",
       "      <th>Зарплата.в.месяц</th>\n",
       "      <th>Изменение.зарплаты.за.12.месяцев</th>\n",
       "      <th>Город</th>\n",
       "      <th>Размер.компании</th>\n",
       "      <th>Тип.компании</th>\n",
       "      <th>Пол</th>\n",
       "      <th>Возраст</th>\n",
       "      <th>Образование</th>\n",
       "      <th>Еще.студент</th>\n",
       "      <th>Уровень.английского</th>\n",
       "      <th>Дата.заполнения</th>\n",
       "      <th>User.Agent</th>\n",
       "      <th>exp</th>\n",
       "      <th>current_job_exp</th>\n",
       "      <th>salary</th>\n",
       "    </tr>\n",
       "    <tr>\n",
       "      <th>Должность</th>\n",
       "      <th></th>\n",
       "      <th></th>\n",
       "      <th></th>\n",
       "      <th></th>\n",
       "      <th></th>\n",
       "      <th></th>\n",
       "      <th></th>\n",
       "      <th></th>\n",
       "      <th></th>\n",
       "      <th></th>\n",
       "      <th></th>\n",
       "      <th></th>\n",
       "      <th></th>\n",
       "      <th></th>\n",
       "      <th></th>\n",
       "      <th></th>\n",
       "      <th></th>\n",
       "      <th></th>\n",
       "      <th></th>\n",
       "    </tr>\n",
       "  </thead>\n",
       "  <tbody>\n",
       "    <tr>\n",
       "      <th>Junior Software Engineer</th>\n",
       "      <td>224221</td>\n",
       "      <td>PythonPythonPythonPythonPythonPythonPythonPyth...</td>\n",
       "      <td>0.51.510.50.2511меньше 3 месяцев0.51.51.51.511...</td>\n",
       "      <td>0.50.510.50.25меньше 3 месяцев1меньше 3 месяце...</td>\n",
       "      <td>35333</td>\n",
       "      <td>11405</td>\n",
       "      <td>КиевКиевКиевВинницаКиевХарьковЛьвовКиевЛьвовУд...</td>\n",
       "      <td>до 10 человекдо 1000 человекдо 10 человекдо 20...</td>\n",
       "      <td>АутсорсинговаяАутсорсинговаяАутсорсинговаяАутс...</td>\n",
       "      <td>мужскоймужскоймужскоймужскоймужскоймужскоймужс...</td>\n",
       "      <td>1523</td>\n",
       "      <td>Незаконченное высшееНезаконченное высшееНезако...</td>\n",
       "      <td>24</td>\n",
       "      <td>выше среднегосреднийвыше среднегониже среднего...</td>\n",
       "      <td>12/06/2017 13:12:2512/06/2017 13:14:5212/06/20...</td>\n",
       "      <td>Mozilla/5.0 (X11; Linux x86_64) AppleWebKit/53...</td>\n",
       "      <td>55.25</td>\n",
       "      <td>33.00</td>\n",
       "      <td>35333</td>\n",
       "    </tr>\n",
       "    <tr>\n",
       "      <th>Senior Software Engineer</th>\n",
       "      <td>148238</td>\n",
       "      <td>PythonPythonPythonPythonPythonPythonPythonPyth...</td>\n",
       "      <td>10 и более лет7210 и более лет454710 и более л...</td>\n",
       "      <td>0.50.5221меньше 3 месяцев1.54321.50.253меньше ...</td>\n",
       "      <td>105000</td>\n",
       "      <td>13380</td>\n",
       "      <td>КиевДнепрЛьвовУдаленноЛьвовХарьковУдаленноХарь...</td>\n",
       "      <td>до 200 человекдо 200 человекдо 50 человекдо 10...</td>\n",
       "      <td>ПродуктоваяАутсорсинговаяДругаяСтартапАутсорси...</td>\n",
       "      <td>мужскоймужскоймужскоймужскоймужскоймужскоймужс...</td>\n",
       "      <td>901</td>\n",
       "      <td>ВысшееВысшееНезаконченное высшееВысшееВысшееВы...</td>\n",
       "      <td>1</td>\n",
       "      <td>выше среднеговыше среднегосреднийэлементарныйв...</td>\n",
       "      <td>12/06/2017 13:46:2412/06/2017 13:58:1612/06/20...</td>\n",
       "      <td>Mozilla/5.0 (Windows NT 6.1; Win64; x64) Apple...</td>\n",
       "      <td>207.00</td>\n",
       "      <td>48.25</td>\n",
       "      <td>105000</td>\n",
       "    </tr>\n",
       "    <tr>\n",
       "      <th>Software Engineer</th>\n",
       "      <td>366884</td>\n",
       "      <td>PythonPythonPythonPythonPythonPythonPythonPyth...</td>\n",
       "      <td>11.52845257333221.50.52541.5111.5142426345210 ...</td>\n",
       "      <td>меньше 3 месяцев0.5121.53210.2531110.5меньше 3...</td>\n",
       "      <td>179907</td>\n",
       "      <td>47983</td>\n",
       "      <td>КиевКиевДнепрЛьвовДругойКиевХмельницкийУдаленн...</td>\n",
       "      <td>до 50 человекдо 10 человекдо 50 человекдо 1000...</td>\n",
       "      <td>АутсорсинговаяСтартапАутстаффинговаяАутсорсинг...</td>\n",
       "      <td>мужскоймужскоймужскоймужскоймужскоймужскоймужс...</td>\n",
       "      <td>2663</td>\n",
       "      <td>ВысшееНезаконченное высшееКандидатВысшееВысшее...</td>\n",
       "      <td>13</td>\n",
       "      <td>ниже среднеговыше среднегопродвинутыйвыше сред...</td>\n",
       "      <td>12/06/2017 13:05:5412/06/2017 13:11:1712/06/20...</td>\n",
       "      <td>Mozilla/5.0 (Windows NT 6.1; Win64; x64) Apple...</td>\n",
       "      <td>318.00</td>\n",
       "      <td>112.75</td>\n",
       "      <td>179907</td>\n",
       "    </tr>\n",
       "    <tr>\n",
       "      <th>System Architect</th>\n",
       "      <td>13978</td>\n",
       "      <td>PythonPython</td>\n",
       "      <td>10 и более лет10 и более лет</td>\n",
       "      <td>0.252</td>\n",
       "      <td>8000</td>\n",
       "      <td>0</td>\n",
       "      <td>КиевКиев</td>\n",
       "      <td>до 50 человекдо 10 человек</td>\n",
       "      <td>ПродуктоваяПродуктовая</td>\n",
       "      <td>мужскоймужской</td>\n",
       "      <td>71</td>\n",
       "      <td>ВысшееВысшее</td>\n",
       "      <td>0</td>\n",
       "      <td>выше среднегосредний</td>\n",
       "      <td>20/06/2017 18:40:4006/07/2017 19:15:05</td>\n",
       "      <td>Mozilla/5.0 (X11; Ubuntu; Linux x86_64; rv:53....</td>\n",
       "      <td>20.00</td>\n",
       "      <td>2.25</td>\n",
       "      <td>8000</td>\n",
       "    </tr>\n",
       "    <tr>\n",
       "      <th>Technical Lead</th>\n",
       "      <td>59072</td>\n",
       "      <td>PythonPythonPythonPythonPythonPythonPythonPyth...</td>\n",
       "      <td>410 и более лет10 и более лет2510 и более лет1...</td>\n",
       "      <td>1.520.25230.57310 и более лет17</td>\n",
       "      <td>34825</td>\n",
       "      <td>5005</td>\n",
       "      <td>КиевКиевКиевХарьковДнепрЛьвовХарьковОдессаХерс...</td>\n",
       "      <td>до 50 человекдо 50 человексвыше 1000 человекдо...</td>\n",
       "      <td>ПродуктоваяАутсорсинговаяАутсорсинговаяАутсорс...</td>\n",
       "      <td>мужскоймужскоймужскоймужскоймужскоймужскоймужс...</td>\n",
       "      <td>331</td>\n",
       "      <td>Незаконченное высшееВысшееВысшееВысшееВысшееВы...</td>\n",
       "      <td>0</td>\n",
       "      <td>выше среднеговыше среднеговыше среднегосредний...</td>\n",
       "      <td>13/06/2017 12:37:0213/06/2017 14:51:1914/06/20...</td>\n",
       "      <td>Mozilla/5.0 (Macintosh; Intel Mac OS X 10_12_5...</td>\n",
       "      <td>78.00</td>\n",
       "      <td>37.25</td>\n",
       "      <td>34825</td>\n",
       "    </tr>\n",
       "  </tbody>\n",
       "</table>\n",
       "</div>"
      ],
      "text/plain": [
       "                               N  \\\n",
       "Должность                          \n",
       "Junior Software Engineer  224221   \n",
       "Senior Software Engineer  148238   \n",
       "Software Engineer         366884   \n",
       "System Architect           13978   \n",
       "Technical Lead             59072   \n",
       "\n",
       "                                                      Язык.программирования  \\\n",
       "Должность                                                                     \n",
       "Junior Software Engineer  PythonPythonPythonPythonPythonPythonPythonPyth...   \n",
       "Senior Software Engineer  PythonPythonPythonPythonPythonPythonPythonPyth...   \n",
       "Software Engineer         PythonPythonPythonPythonPythonPythonPythonPyth...   \n",
       "System Architect                                               PythonPython   \n",
       "Technical Lead            PythonPythonPythonPythonPythonPythonPythonPyth...   \n",
       "\n",
       "                                                          Общий.опыт.работы  \\\n",
       "Должность                                                                     \n",
       "Junior Software Engineer  0.51.510.50.2511меньше 3 месяцев0.51.51.51.511...   \n",
       "Senior Software Engineer  10 и более лет7210 и более лет454710 и более л...   \n",
       "Software Engineer         11.52845257333221.50.52541.5111.5142426345210 ...   \n",
       "System Architect                               10 и более лет10 и более лет   \n",
       "Technical Lead            410 и более лет10 и более лет2510 и более лет1...   \n",
       "\n",
       "                                               Опыт.работы.на.текущем.месте  \\\n",
       "Должность                                                                     \n",
       "Junior Software Engineer  0.50.510.50.25меньше 3 месяцев1меньше 3 месяце...   \n",
       "Senior Software Engineer  0.50.5221меньше 3 месяцев1.54321.50.253меньше ...   \n",
       "Software Engineer         меньше 3 месяцев0.5121.53210.2531110.5меньше 3...   \n",
       "System Architect                                                      0.252   \n",
       "Technical Lead                              1.520.25230.57310 и более лет17   \n",
       "\n",
       "                          Зарплата.в.месяц  Изменение.зарплаты.за.12.месяцев  \\\n",
       "Должность                                                                      \n",
       "Junior Software Engineer             35333                             11405   \n",
       "Senior Software Engineer            105000                             13380   \n",
       "Software Engineer                   179907                             47983   \n",
       "System Architect                      8000                                 0   \n",
       "Technical Lead                       34825                              5005   \n",
       "\n",
       "                                                                      Город  \\\n",
       "Должность                                                                     \n",
       "Junior Software Engineer  КиевКиевКиевВинницаКиевХарьковЛьвовКиевЛьвовУд...   \n",
       "Senior Software Engineer  КиевДнепрЛьвовУдаленноЛьвовХарьковУдаленноХарь...   \n",
       "Software Engineer         КиевКиевДнепрЛьвовДругойКиевХмельницкийУдаленн...   \n",
       "System Architect                                                   КиевКиев   \n",
       "Technical Lead            КиевКиевКиевХарьковДнепрЛьвовХарьковОдессаХерс...   \n",
       "\n",
       "                                                            Размер.компании  \\\n",
       "Должность                                                                     \n",
       "Junior Software Engineer  до 10 человекдо 1000 человекдо 10 человекдо 20...   \n",
       "Senior Software Engineer  до 200 человекдо 200 человекдо 50 человекдо 10...   \n",
       "Software Engineer         до 50 человекдо 10 человекдо 50 человекдо 1000...   \n",
       "System Architect                                 до 50 человекдо 10 человек   \n",
       "Technical Lead            до 50 человекдо 50 человексвыше 1000 человекдо...   \n",
       "\n",
       "                                                               Тип.компании  \\\n",
       "Должность                                                                     \n",
       "Junior Software Engineer  АутсорсинговаяАутсорсинговаяАутсорсинговаяАутс...   \n",
       "Senior Software Engineer  ПродуктоваяАутсорсинговаяДругаяСтартапАутсорси...   \n",
       "Software Engineer         АутсорсинговаяСтартапАутстаффинговаяАутсорсинг...   \n",
       "System Architect                                     ПродуктоваяПродуктовая   \n",
       "Technical Lead            ПродуктоваяАутсорсинговаяАутсорсинговаяАутсорс...   \n",
       "\n",
       "                                                                        Пол  \\\n",
       "Должность                                                                     \n",
       "Junior Software Engineer  мужскоймужскоймужскоймужскоймужскоймужскоймужс...   \n",
       "Senior Software Engineer  мужскоймужскоймужскоймужскоймужскоймужскоймужс...   \n",
       "Software Engineer         мужскоймужскоймужскоймужскоймужскоймужскоймужс...   \n",
       "System Architect                                             мужскоймужской   \n",
       "Technical Lead            мужскоймужскоймужскоймужскоймужскоймужскоймужс...   \n",
       "\n",
       "                          Возраст  \\\n",
       "Должность                           \n",
       "Junior Software Engineer     1523   \n",
       "Senior Software Engineer      901   \n",
       "Software Engineer            2663   \n",
       "System Architect               71   \n",
       "Technical Lead                331   \n",
       "\n",
       "                                                                Образование  \\\n",
       "Должность                                                                     \n",
       "Junior Software Engineer  Незаконченное высшееНезаконченное высшееНезако...   \n",
       "Senior Software Engineer  ВысшееВысшееНезаконченное высшееВысшееВысшееВы...   \n",
       "Software Engineer         ВысшееНезаконченное высшееКандидатВысшееВысшее...   \n",
       "System Architect                                               ВысшееВысшее   \n",
       "Technical Lead            Незаконченное высшееВысшееВысшееВысшееВысшееВы...   \n",
       "\n",
       "                          Еще.студент  \\\n",
       "Должность                               \n",
       "Junior Software Engineer           24   \n",
       "Senior Software Engineer            1   \n",
       "Software Engineer                  13   \n",
       "System Architect                    0   \n",
       "Technical Lead                      0   \n",
       "\n",
       "                                                        Уровень.английского  \\\n",
       "Должность                                                                     \n",
       "Junior Software Engineer  выше среднегосреднийвыше среднегониже среднего...   \n",
       "Senior Software Engineer  выше среднеговыше среднегосреднийэлементарныйв...   \n",
       "Software Engineer         ниже среднеговыше среднегопродвинутыйвыше сред...   \n",
       "System Architect                                       выше среднегосредний   \n",
       "Technical Lead            выше среднеговыше среднеговыше среднегосредний...   \n",
       "\n",
       "                                                            Дата.заполнения  \\\n",
       "Должность                                                                     \n",
       "Junior Software Engineer  12/06/2017 13:12:2512/06/2017 13:14:5212/06/20...   \n",
       "Senior Software Engineer  12/06/2017 13:46:2412/06/2017 13:58:1612/06/20...   \n",
       "Software Engineer         12/06/2017 13:05:5412/06/2017 13:11:1712/06/20...   \n",
       "System Architect                     20/06/2017 18:40:4006/07/2017 19:15:05   \n",
       "Technical Lead            13/06/2017 12:37:0213/06/2017 14:51:1914/06/20...   \n",
       "\n",
       "                                                                 User.Agent  \\\n",
       "Должность                                                                     \n",
       "Junior Software Engineer  Mozilla/5.0 (X11; Linux x86_64) AppleWebKit/53...   \n",
       "Senior Software Engineer  Mozilla/5.0 (Windows NT 6.1; Win64; x64) Apple...   \n",
       "Software Engineer         Mozilla/5.0 (Windows NT 6.1; Win64; x64) Apple...   \n",
       "System Architect          Mozilla/5.0 (X11; Ubuntu; Linux x86_64; rv:53....   \n",
       "Technical Lead            Mozilla/5.0 (Macintosh; Intel Mac OS X 10_12_5...   \n",
       "\n",
       "                             exp  current_job_exp  salary  \n",
       "Должность                                                  \n",
       "Junior Software Engineer   55.25            33.00   35333  \n",
       "Senior Software Engineer  207.00            48.25  105000  \n",
       "Software Engineer         318.00           112.75  179907  \n",
       "System Architect           20.00             2.25    8000  \n",
       "Technical Lead             78.00            37.25   34825  "
      ]
     },
     "execution_count": 21,
     "metadata": {},
     "output_type": "execute_result"
    }
   ],
   "source": [
    "python_data.groupby(by=\"Должность\").sum()"
   ]
  },
  {
   "cell_type": "code",
   "execution_count": 22,
   "metadata": {},
   "outputs": [],
   "source": [
    "job_position_python_data = python_data.groupby(by=\"Должность\")"
   ]
  },
  {
   "cell_type": "code",
   "execution_count": 23,
   "metadata": {},
   "outputs": [
    {
     "data": {
      "text/html": [
       "<div>\n",
       "<style scoped>\n",
       "    .dataframe tbody tr th:only-of-type {\n",
       "        vertical-align: middle;\n",
       "    }\n",
       "\n",
       "    .dataframe tbody tr th {\n",
       "        vertical-align: top;\n",
       "    }\n",
       "\n",
       "    .dataframe thead th {\n",
       "        text-align: right;\n",
       "    }\n",
       "</style>\n",
       "<table border=\"1\" class=\"dataframe\">\n",
       "  <thead>\n",
       "    <tr style=\"text-align: right;\">\n",
       "      <th></th>\n",
       "      <th>min</th>\n",
       "      <th>max</th>\n",
       "    </tr>\n",
       "    <tr>\n",
       "      <th>Должность</th>\n",
       "      <th></th>\n",
       "      <th></th>\n",
       "    </tr>\n",
       "  </thead>\n",
       "  <tbody>\n",
       "    <tr>\n",
       "      <th>Junior Software Engineer</th>\n",
       "      <td>100</td>\n",
       "      <td>1250</td>\n",
       "    </tr>\n",
       "    <tr>\n",
       "      <th>Senior Software Engineer</th>\n",
       "      <td>1300</td>\n",
       "      <td>9200</td>\n",
       "    </tr>\n",
       "    <tr>\n",
       "      <th>Software Engineer</th>\n",
       "      <td>500</td>\n",
       "      <td>5400</td>\n",
       "    </tr>\n",
       "    <tr>\n",
       "      <th>System Architect</th>\n",
       "      <td>3000</td>\n",
       "      <td>5000</td>\n",
       "    </tr>\n",
       "    <tr>\n",
       "      <th>Technical Lead</th>\n",
       "      <td>1425</td>\n",
       "      <td>6200</td>\n",
       "    </tr>\n",
       "  </tbody>\n",
       "</table>\n",
       "</div>"
      ],
      "text/plain": [
       "                           min   max\n",
       "Должность                           \n",
       "Junior Software Engineer   100  1250\n",
       "Senior Software Engineer  1300  9200\n",
       "Software Engineer          500  5400\n",
       "System Architect          3000  5000\n",
       "Technical Lead            1425  6200"
      ]
     },
     "execution_count": 23,
     "metadata": {},
     "output_type": "execute_result"
    }
   ],
   "source": [
    "job_position_python_data[\"Зарплата.в.месяц\"].agg([\"min\",\"max\"])"
   ]
  },
  {
   "cell_type": "code",
   "execution_count": 24,
   "metadata": {},
   "outputs": [],
   "source": [
    "job_position_salary = python_data[[\"Должность\",\"Зарплата.в.месяц\"]]"
   ]
  },
  {
   "cell_type": "code",
   "execution_count": 25,
   "metadata": {},
   "outputs": [
    {
     "data": {
      "text/plain": [
       "560.8412698412699"
      ]
     },
     "execution_count": 25,
     "metadata": {},
     "output_type": "execute_result"
    }
   ],
   "source": [
    "job_position_salary[job_position_salary[\"Должность\"]==\"Junior Software Engineer\"].iloc[:,1].mean()"
   ]
  },
  {
   "cell_type": "code",
   "execution_count": 26,
   "metadata": {},
   "outputs": [],
   "source": [
    "def fill_avg_salary_apply_to_table(table_with_jobs_salary):\n",
    "    positions = [\"Junior Software Engineer\",\"Senior Software Engineer\",\"Software Engineer\",\"System Architect\",\"Technical Lead\"]\n",
    "    means = []\n",
    "    for position in positions:\n",
    "        mean = table_with_jobs_salary[table_with_jobs_salary[\"Должность\"]==position].iloc[:,1].mean()\n",
    "        means.append(mean)\n",
    "    return pd.DataFrame(data = {\"position\":positions,\"avg\":means})"
   ]
  },
  {
   "cell_type": "code",
   "execution_count": 27,
   "metadata": {},
   "outputs": [
    {
     "data": {
      "text/html": [
       "<div>\n",
       "<style scoped>\n",
       "    .dataframe tbody tr th:only-of-type {\n",
       "        vertical-align: middle;\n",
       "    }\n",
       "\n",
       "    .dataframe tbody tr th {\n",
       "        vertical-align: top;\n",
       "    }\n",
       "\n",
       "    .dataframe thead th {\n",
       "        text-align: right;\n",
       "    }\n",
       "</style>\n",
       "<table border=\"1\" class=\"dataframe\">\n",
       "  <thead>\n",
       "    <tr style=\"text-align: right;\">\n",
       "      <th></th>\n",
       "      <th>position</th>\n",
       "      <th>avg</th>\n",
       "    </tr>\n",
       "  </thead>\n",
       "  <tbody>\n",
       "    <tr>\n",
       "      <th>0</th>\n",
       "      <td>Junior Software Engineer</td>\n",
       "      <td>560.841270</td>\n",
       "    </tr>\n",
       "    <tr>\n",
       "      <th>1</th>\n",
       "      <td>Senior Software Engineer</td>\n",
       "      <td>3387.096774</td>\n",
       "    </tr>\n",
       "    <tr>\n",
       "      <th>2</th>\n",
       "      <td>Software Engineer</td>\n",
       "      <td>1799.070000</td>\n",
       "    </tr>\n",
       "    <tr>\n",
       "      <th>3</th>\n",
       "      <td>System Architect</td>\n",
       "      <td>4000.000000</td>\n",
       "    </tr>\n",
       "    <tr>\n",
       "      <th>4</th>\n",
       "      <td>Technical Lead</td>\n",
       "      <td>3165.909091</td>\n",
       "    </tr>\n",
       "  </tbody>\n",
       "</table>\n",
       "</div>"
      ],
      "text/plain": [
       "                   position          avg\n",
       "0  Junior Software Engineer   560.841270\n",
       "1  Senior Software Engineer  3387.096774\n",
       "2         Software Engineer  1799.070000\n",
       "3          System Architect  4000.000000\n",
       "4            Technical Lead  3165.909091"
      ]
     },
     "execution_count": 27,
     "metadata": {},
     "output_type": "execute_result"
    }
   ],
   "source": [
    "fill_avg_salary_apply_to_table(job_position_salary)"
   ]
  },
  {
   "cell_type": "code",
   "execution_count": 28,
   "metadata": {},
   "outputs": [],
   "source": [
    "average = fill_avg_salary_apply_to_table(job_position_salary)[\"avg\"]"
   ]
  },
  {
   "cell_type": "code",
   "execution_count": 29,
   "metadata": {},
   "outputs": [
    {
     "data": {
      "text/plain": [
       "[560.8412698412699, 3387.0967741935483, 1799.07, 4000.0, 3165.909090909091]"
      ]
     },
     "execution_count": 29,
     "metadata": {},
     "output_type": "execute_result"
    }
   ],
   "source": [
    "average.tolist()"
   ]
  },
  {
   "cell_type": "code",
   "execution_count": 30,
   "metadata": {},
   "outputs": [],
   "source": [
    "position_min_max = job_position_python_data[\"Зарплата.в.месяц\"].agg([\"min\",\"max\"])"
   ]
  },
  {
   "cell_type": "code",
   "execution_count": 31,
   "metadata": {},
   "outputs": [],
   "source": [
    "position_min_max[\"avg\"]=average.tolist()"
   ]
  },
  {
   "cell_type": "code",
   "execution_count": 32,
   "metadata": {},
   "outputs": [
    {
     "data": {
      "text/html": [
       "<div>\n",
       "<style scoped>\n",
       "    .dataframe tbody tr th:only-of-type {\n",
       "        vertical-align: middle;\n",
       "    }\n",
       "\n",
       "    .dataframe tbody tr th {\n",
       "        vertical-align: top;\n",
       "    }\n",
       "\n",
       "    .dataframe thead th {\n",
       "        text-align: right;\n",
       "    }\n",
       "</style>\n",
       "<table border=\"1\" class=\"dataframe\">\n",
       "  <thead>\n",
       "    <tr style=\"text-align: right;\">\n",
       "      <th></th>\n",
       "      <th>min</th>\n",
       "      <th>max</th>\n",
       "      <th>avg</th>\n",
       "    </tr>\n",
       "    <tr>\n",
       "      <th>Должность</th>\n",
       "      <th></th>\n",
       "      <th></th>\n",
       "      <th></th>\n",
       "    </tr>\n",
       "  </thead>\n",
       "  <tbody>\n",
       "    <tr>\n",
       "      <th>Junior Software Engineer</th>\n",
       "      <td>100</td>\n",
       "      <td>1250</td>\n",
       "      <td>560.841270</td>\n",
       "    </tr>\n",
       "    <tr>\n",
       "      <th>Senior Software Engineer</th>\n",
       "      <td>1300</td>\n",
       "      <td>9200</td>\n",
       "      <td>3387.096774</td>\n",
       "    </tr>\n",
       "    <tr>\n",
       "      <th>Software Engineer</th>\n",
       "      <td>500</td>\n",
       "      <td>5400</td>\n",
       "      <td>1799.070000</td>\n",
       "    </tr>\n",
       "    <tr>\n",
       "      <th>System Architect</th>\n",
       "      <td>3000</td>\n",
       "      <td>5000</td>\n",
       "      <td>4000.000000</td>\n",
       "    </tr>\n",
       "    <tr>\n",
       "      <th>Technical Lead</th>\n",
       "      <td>1425</td>\n",
       "      <td>6200</td>\n",
       "      <td>3165.909091</td>\n",
       "    </tr>\n",
       "  </tbody>\n",
       "</table>\n",
       "</div>"
      ],
      "text/plain": [
       "                           min   max          avg\n",
       "Должность                                        \n",
       "Junior Software Engineer   100  1250   560.841270\n",
       "Senior Software Engineer  1300  9200  3387.096774\n",
       "Software Engineer          500  5400  1799.070000\n",
       "System Architect          3000  5000  4000.000000\n",
       "Technical Lead            1425  6200  3165.909091"
      ]
     },
     "execution_count": 32,
     "metadata": {},
     "output_type": "execute_result"
    }
   ],
   "source": [
    "position_min_max"
   ]
  },
  {
   "cell_type": "code",
   "execution_count": 33,
   "metadata": {},
   "outputs": [
    {
     "data": {
      "text/plain": [
       "<bound method NDFrame.describe of                            min   max          avg\n",
       "Должность                                        \n",
       "Junior Software Engineer   100  1250   560.841270\n",
       "Senior Software Engineer  1300  9200  3387.096774\n",
       "Software Engineer          500  5400  1799.070000\n",
       "System Architect          3000  5000  4000.000000\n",
       "Technical Lead            1425  6200  3165.909091>"
      ]
     },
     "execution_count": 33,
     "metadata": {},
     "output_type": "execute_result"
    }
   ],
   "source": [
    "position_min_max.describe"
   ]
  },
  {
   "cell_type": "code",
   "execution_count": 34,
   "metadata": {},
   "outputs": [],
   "source": [
    "position_min_max.to_csv(\"CSV.csv\")"
   ]
  },
  {
   "cell_type": "code",
   "execution_count": 41,
   "metadata": {},
   "outputs": [
    {
     "data": {
      "text/plain": [
       "Index(['Junior Software Engineer', 'Senior Software Engineer',\n",
       "       'Software Engineer', 'System Architect', 'Technical Lead'],\n",
       "      dtype='object', name='Должность')"
      ]
     },
     "execution_count": 41,
     "metadata": {},
     "output_type": "execute_result"
    }
   ],
   "source": [
    "position_min_max.index"
   ]
  },
  {
   "cell_type": "code",
   "execution_count": 44,
   "metadata": {},
   "outputs": [
    {
     "data": {
      "text/plain": [
       "<Axes: title={'center': 'Developer Salaries'}, xlabel='Должность', ylabel='Salary, $'>"
      ]
     },
     "execution_count": 44,
     "metadata": {},
     "output_type": "execute_result"
    },
    {
     "data": {
      "image/png": "[encoded data removed]",
      "text/plain": [
       "<Figure size 640x480 with 1 Axes>"
      ]
     },
     "metadata": {},
     "output_type": "display_data"
    }
   ],
   "source": [
    "position_min_max.plot(title = \"Developer Salaries\",grid=True,ylabel=\"Salary, $\")"
   ]
  },
  {
   "cell_type": "code",
   "execution_count": 47,
   "metadata": {},
   "outputs": [
    {
     "data": {
      "text/plain": [
       "<Axes: title={'center': 'Developer Salaries'}, xlabel='Должность', ylabel='Salary, $'>"
      ]
     },
     "execution_count": 47,
     "metadata": {},
     "output_type": "execute_result"
    },
    {
     "data": {
      "image/png": "[encoded data removed]",
      "text/plain": [
       "<Figure size 640x480 with 1 Axes>"
      ]
     },
     "metadata": {},
     "output_type": "display_data"
    }
   ],
   "source": [
    "position_min_max.plot(kind=\"bar\",title = \"Developer Salaries\",grid=True,ylabel=\"Salary, $\")"
   ]
  },
  {
   "cell_type": "code",
   "execution_count": 85,
   "metadata": {},
   "outputs": [
    {
     "data": {
      "text/plain": [
       "<Axes: title={'center': 'Programming language of Junior Developers'}, xlabel='Язык.программирования', ylabel='Number of developers'>"
      ]
     },
     "execution_count": 85,
     "metadata": {},
     "output_type": "execute_result"
    },
    {
     "data": {
      "image/png": "[encoded data removed]",
      "text/plain": [
       "<Figure size 640x480 with 1 Axes>"
      ]
     },
     "metadata": {},
     "output_type": "display_data"
    }
   ],
   "source": [
    "table[table[\"Должность\"]==\"Junior Software Engineer\"].iloc[:,1:3].groupby(by=\"Язык.программирования\").count().plot(kind=\"bar\",title = \"Programming language of Junior Developers\",ylabel=\"Number of developers\")"
   ]
  },
  {
   "cell_type": "code",
   "execution_count": 59,
   "metadata": {},
   "outputs": [],
   "source": [
    "junior_developer = pd.DataFrame(data=table[table[\"Должность\"]==\"Junior Software Engineer\"][\"Язык.программирования\"].values.tolist())"
   ]
  },
  {
   "cell_type": "code",
   "execution_count": 62,
   "metadata": {},
   "outputs": [],
   "source": [
    "junior_developer.columns"
   ]
  },
  {
   "cell_type": "code",
   "execution_count": null,
   "metadata": {},
   "outputs": [],
   "source": []
  }
 ],
 "metadata": {
  "kernelspec": {
   "display_name": "Python 3 (ipykernel)",
   "language": "python",
   "name": "python3"
  },
  "language_info": {
   "codemirror_mode": {
    "name": "ipython",
    "version": 3
   },
   "file_extension": ".py",
   "mimetype": "text/x-python",
   "name": "python",
   "nbconvert_exporter": "python",
   "pygments_lexer": "ipython3",
   "version": "3.11.1"
  }
 },
 "nbformat": 4,
 "nbformat_minor": 4
}
